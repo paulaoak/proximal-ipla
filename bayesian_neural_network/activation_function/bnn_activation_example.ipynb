{
 "cells": [
  {
   "cell_type": "markdown",
   "metadata": {},
   "source": [
    "**Description:** This notebook demonstrates the application of PIP-MYULA to the Bayesian neural network considered in Section 3.2 of [Particle algorithms for maximum likelihood training of latent\n",
    "variable models](https://juankuntz.github.io/publication/parem/) but changing the normal prior on the weights with Laplace priors that induce sparsity."
   ]
  },
  {
   "cell_type": "code",
   "execution_count": 1,
   "metadata": {},
   "outputs": [],
   "source": [
    "#@title Load modules.\n",
    "\n",
    "# Numpy and JAX for computations.\n",
    "import numpy as np\n",
    "import jax\n",
    "import jax.numpy as jnp\n",
    "import torch\n",
    "\n",
    "# Pyplot for plots.\n",
    "import matplotlib.pyplot as plt "
   ]
  },
  {
   "cell_type": "markdown",
   "metadata": {},
   "source": [
    "Next, we load and curate the dataset:"
   ]
  },
  {
   "cell_type": "code",
   "execution_count": 2,
   "metadata": {},
   "outputs": [
    {
     "name": "stderr",
     "output_type": "stream",
     "text": [
      "2025-02-06 14:51:52.360388: E external/local_xla/xla/stream_executor/cuda/cuda_dnn.cc:9261] Unable to register cuDNN factory: Attempting to register factory for plugin cuDNN when one has already been registered\n",
      "2025-02-06 14:51:52.360507: E external/local_xla/xla/stream_executor/cuda/cuda_fft.cc:607] Unable to register cuFFT factory: Attempting to register factory for plugin cuFFT when one has already been registered\n",
      "2025-02-06 14:51:52.412482: E external/local_xla/xla/stream_executor/cuda/cuda_blas.cc:1515] Unable to register cuBLAS factory: Attempting to register factory for plugin cuBLAS when one has already been registered\n",
      "2025-02-06 14:51:53.355873: W tensorflow/compiler/tf2tensorrt/utils/py_utils.cc:38] TF-TRT Warning: Could not find TensorRT\n"
     ]
    }
   ],
   "source": [
    "#@title Load, subsample, and normalize MNIST dataset.\n",
    "\n",
    "# Load dataset:\n",
    "from keras.datasets import mnist\n",
    "(images, labels), _ = mnist.load_data()\n",
    "images = np.array(images).astype(float)\n",
    "labels = np.array(labels).astype(int)\n",
    "\n",
    "# Keep only datapoints with labels 1 and 7:\n",
    "indices = (labels == 1) | (labels == 7)\n",
    "labels = labels[indices]\n",
    "images = images[indices, :, :]\n",
    "\n",
    "# Relabel as 1 as 0 and 7 as 1:\n",
    "for n in range(labels.size):\n",
    "    if labels[n] == 1:\n",
    "        labels[n] = 0\n",
    "    else:\n",
    "        labels[n] = 1\n",
    "\n",
    "# Sub-sample 1000 images:\n",
    "from sklearn.model_selection import train_test_split\n",
    "images, _, labels, _ = train_test_split(images, labels, train_size=1000,\n",
    "                                        random_state=0)\n",
    "\n",
    "# Normalize non-zero entries (pixels across whole dataset) so that they have mean zero \n",
    "# and unit standard across the dataset:\n",
    "i = images.std(0) != 0\n",
    "images[:, i] = (images[:, i] - images[:, i].mean(0))/images[:, i].std(0)"
   ]
  },
  {
   "cell_type": "markdown",
   "metadata": {},
   "source": [
    "We then implement the algorithms. They take in the following inputs:\n",
    "\n",
    "*   itrain : training set labels,\n",
    "*   itrain : training set images,\n",
    "*   itest : test set labels,\n",
    "*   itest : test set images,\n",
    "*   h : step-size,\n",
    "*   K : number of steps,\n",
    "*   N : number of particles,\n",
    "*   a : 1-dimensional vector with initial alpha guess,\n",
    "*   b : 1-dimensional vector with initial beta guess,\n",
    "*   w : Dw x N matrix storing the input layer weights of the initial particle cloud,\n",
    "*   v : Dv x N matrix storing the output layer weights of the initial particle cloud.\n",
    "*   gamma: Smoothing parameter of the Moreau-Yosida envelope.\n",
    "\n",
    "They return the following outputs:\n",
    "\n",
    "*   a : K-dimensional vector of alpha estimates,\n",
    "*   b : K-dimensional vector of beta estimates,\n",
    "*   w : Dw x N matrix storing the input layer weights of the final particle cloud,\n",
    "*   v : Dv x N matrix storing the output layer weights of the final particle cloud,\n",
    "*   lppd : log pointwise predictive density (LPPD) as a function of k,\n",
    "*   error : test error as a function of k."
   ]
  },
  {
   "cell_type": "code",
   "execution_count": 3,
   "metadata": {},
   "outputs": [],
   "source": [
    "# Algorithms\n",
    "import sys\n",
    "import os\n",
    "\n",
    "project_root = os.path.abspath(os.path.join(os.getcwd(), '..', '..'))  \n",
    "sys.path.append(project_root)\n",
    "\n",
    "from bayesian_neural_network.activation_function.algorithms_nondiff_activation import my_ipla_bnn_activation, my_ipla_bnn_performance_activation, my_pgd_bnn_activation, my_pgd_bnn_performance_activation, pipgla_bnn_activation, pipgla_bnn_performance_activation\n",
    "\n",
    "device = torch.device('cuda') if torch.cuda.is_available() else torch.device('cpu')\n",
    "\n",
    "os.chdir(project_root)"
   ]
  },
  {
   "cell_type": "markdown",
   "metadata": {},
   "source": [
    "We can now run the algorithms using an 80/20 training/test split of the data:"
   ]
  },
  {
   "cell_type": "code",
   "execution_count": 4,
   "metadata": {},
   "outputs": [
    {
     "name": "stderr",
     "output_type": "stream",
     "text": [
      "100%|██████████| 500/500 [03:42<00:00,  2.25it/s]\n"
     ]
    }
   ],
   "source": [
    "# Split data into 80/20 training and testing sets:\n",
    "itrain, itest, ltrain, ltest = train_test_split(images, labels, test_size=0.2,\n",
    "                                                random_state=0)\n",
    "\n",
    "# Set approximation parameters:\n",
    "h = 5e-2 # Step-size. \n",
    "K = 500  # Number of steps.\n",
    "N = 3#00  # Number of particles.\n",
    "gamma = 0.5 # Smoothing parameter\n",
    "\n",
    "# Initialize parameter estimates:\n",
    "a0 = np.array([1])  # Alpha.\n",
    "b0 = np.array([1])  # Beta.\n",
    "\n",
    "# Initialize particle cloud by sampling prior:'\n",
    "w0 = np.exp(a0)*np.random.normal(0, 1, (40, 28**2, N))  # Input layer weights.\n",
    "v0 = np.exp(b0)*np.random.normal(0, 1, (2, 40, N))  # Output layer weights.\n",
    "\n",
    "# Run algorithms:\n",
    "a_pgd, b_pgd, w_pgd, v_pgd, lppd_pgd, error_pgd = pipgla_bnn_activation(ltrain, itrain, ltest, \n",
    "                                                      itest, h, K, a0, b0, w0, \n",
    "                                                      v0, gamma)"
   ]
  },
  {
   "cell_type": "markdown",
   "metadata": {},
   "source": [
    "Sanity check, we plot the test error throught training:"
   ]
  },
  {
   "cell_type": "code",
   "execution_count": 5,
   "metadata": {},
   "outputs": [
    {
     "data": {
      "text/plain": [
       "(-5.0, 500.0)"
      ]
     },
     "execution_count": 5,
     "metadata": {},
     "output_type": "execute_result"
    },
    {
     "data": {
      "image/png": "[encoded data removed]",
      "text/plain": [
       "<Figure size 640x480 with 1 Axes>"
      ]
     },
     "metadata": {},
     "output_type": "display_data"
    }
   ],
   "source": [
    "plt.plot(error_pgd, label='MYIPLA') \n",
    "plt.ylim([0, 0.5])\n",
    "plt.xlim([-K/100, K])"
   ]
  },
  {
   "cell_type": "code",
   "execution_count": 6,
   "metadata": {},
   "outputs": [
    {
     "data": {
      "image/png": "[encoded data removed]",
      "text/plain": [
       "<Figure size 640x480 with 1 Axes>"
      ]
     },
     "metadata": {},
     "output_type": "display_data"
    }
   ],
   "source": [
    "plt.subplot(2, 1, 1)\n",
    "plt.plot(lppd_pgd, label='MYIPLA') \n",
    "plt.title('LPPD as a function of k')\n",
    "plt.xlim([-K/100, K])\n",
    "plt.legend(loc='lower right', ncol=4)\n",
    "\n",
    "plt.subplots_adjust(hspace=0.5)"
   ]
  },
  {
   "cell_type": "markdown",
   "metadata": {},
   "source": [
    "### Predictive performance"
   ]
  },
  {
   "cell_type": "code",
   "execution_count": 4,
   "metadata": {},
   "outputs": [],
   "source": [
    "from bayesian_neural_network.algorithms import log_pointwise_predictive_density, test_error"
   ]
  },
  {
   "cell_type": "code",
   "execution_count": 5,
   "metadata": {},
   "outputs": [],
   "source": [
    "# Split data into 80/20 training and testing sets:\n",
    "# Set approximation parameters:\n",
    "h = 5e-2 # Step-size. \n",
    "K = 500  # Number of steps.\n",
    "N = 50  # Number of particles.\n",
    "gamma = 0.5 # Smoothing parameter\n",
    "\n",
    "# Initialize parameter estimates:\n",
    "a0 = np.array([0])  # Alpha.\n",
    "b0 = np.array([0])  # Beta."
   ]
  },
  {
   "cell_type": "code",
   "execution_count": 6,
   "metadata": {},
   "outputs": [
    {
     "name": "stdout",
     "output_type": "stream",
     "text": [
      "Run 0 out of 10.\n"
     ]
    },
    {
     "name": "stderr",
     "output_type": "stream",
     "text": [
      "  0%|          | 1/500 [00:00<05:16,  1.58it/s]"
     ]
    },
    {
     "ename": "",
     "evalue": "",
     "output_type": "error",
     "traceback": [
      "\u001b[1;31mThe Kernel crashed while executing code in the current cell or a previous cell. \n",
      "\u001b[1;31mPlease review the code in the cell(s) to identify a possible cause of the failure. \n",
      "\u001b[1;31mClick <a href='https://aka.ms/vscodeJupyterKernelCrash'>here</a> for more info. \n",
      "\u001b[1;31mView Jupyter <a href='command:jupyter.viewOutput'>log</a> for further details."
     ]
    }
   ],
   "source": [
    "M = 10 # Number of runs.\n",
    "N = 50 # Number of particles.\n",
    "\n",
    "# Initialize arrays storing the LPPDs and test errors:\n",
    "lppd_pgd = np.zeros((M))\n",
    "error_pgd = np.zeros((M))\n",
    "\n",
    "for m in range(M):\n",
    "    print('Run ' + str(m) + ' out of ' + str(M) + '.')\n",
    "    \n",
    "    # Randomize the initialization of the particle cloud:\n",
    "    w0 = np.exp(a0)*np.random.normal(0, 1, (40, 28**2, N))  # w-components.\n",
    "    v0 = np.exp(b0)*np.random.normal(0, 1, (2, 40, N))  # v-components.\n",
    "    \n",
    "    # Randomize the 80/20 testing/training split of the data:\n",
    "    itrain, itest, ltrain, ltest = train_test_split(images, labels, \n",
    "                                                    test_size=0.2,\n",
    "                                                    random_state=m)\n",
    "\n",
    "    # Run the algorithms:\n",
    "    _, _, w_pgd, v_pgd = my_ipla_bnn_performance_activation(ltrain, itrain, h, K, a0, b0, w0, v0, gamma)\n",
    "    \n",
    "    # Compute LPPDs:\n",
    "    lppd_pgd[m] = log_pointwise_predictive_density(w_pgd, v_pgd, itest, ltest)\n",
    "\n",
    "    # Compute test errors:\n",
    "    error_pgd[m] = test_error(w_pgd, v_pgd, itest, ltest)\n",
    "\n",
    "# Print statistics (mean +- standard deviation):\n",
    "print('LPPDs:')\n",
    "print('MYIPLA: '+str(lppd_pgd.mean())+' \\u00B1 '+str(lppd_pgd.std())+'.')\n",
    "\n",
    "print('Test errors:')\n",
    "print('MYIPLA: '+str(error_pgd.mean())+' \\u00B1 '+str(error_pgd.std())+'.')"
   ]
  },
  {
   "cell_type": "code",
   "execution_count": null,
   "metadata": {},
   "outputs": [],
   "source": [
    "M = 10 # Number of runs.\n",
    "N = 50 # Number of particles.\n",
    "\n",
    "# Initialize arrays storing the LPPDs and test errors:\n",
    "lppd_pgd = np.zeros((M))\n",
    "error_pgd = np.zeros((M))\n",
    "\n",
    "for m in range(M):\n",
    "    print('Run ' + str(m) + ' out of ' + str(M) + '.')\n",
    "    \n",
    "    # Randomize the initialization of the particle cloud:\n",
    "    w0 = np.exp(a0)*np.random.normal(0, 1, (40, 28**2, N))  # w-components.\n",
    "    v0 = np.exp(b0)*np.random.normal(0, 1, (2, 40, N))  # v-components.\n",
    "    \n",
    "    # Randomize the 80/20 testing/training split of the data:\n",
    "    itrain, itest, ltrain, ltest = train_test_split(images, labels, \n",
    "                                                    test_size=0.2,\n",
    "                                                    random_state=m)\n",
    "\n",
    "    # Run the algorithms:\n",
    "    _, _, w_pgd, v_pgd = my_pgd_bnn_performance_activation(ltrain, itrain, h, K, a0, b0, w0, v0, gamma)\n",
    "    \n",
    "    # Compute LPPDs:\n",
    "    lppd_pgd[m] = log_pointwise_predictive_density(w_pgd, v_pgd, itest, ltest)\n",
    "\n",
    "    # Compute test errors:\n",
    "    error_pgd[m] = test_error(w_pgd, v_pgd, itest, ltest)\n",
    "\n",
    "# Print statistics (mean +- standard deviation):\n",
    "print('LPPDs:')\n",
    "print('MYPGD: '+str(lppd_pgd.mean())+' \\u00B1 '+str(lppd_pgd.std())+'.')\n",
    "\n",
    "print('Test errors:')\n",
    "print('MYPGD: '+str(error_pgd.mean())+' \\u00B1 '+str(error_pgd.std())+'.')"
   ]
  },
  {
   "cell_type": "code",
   "execution_count": null,
   "metadata": {},
   "outputs": [],
   "source": [
    "M = 10 # Number of runs.\n",
    "N = 50 # Number of particles.\n",
    "\n",
    "# Initialize arrays storing the LPPDs and test errors:\n",
    "lppd_pgd = np.zeros((M))\n",
    "error_pgd = np.zeros((M))\n",
    "\n",
    "for m in range(M):\n",
    "    print('Run ' + str(m) + ' out of ' + str(M) + '.')\n",
    "    \n",
    "    # Randomize the initialization of the particle cloud:\n",
    "    w0 = np.exp(a0)*np.random.normal(0, 1, (40, 28**2, N))  # w-components.\n",
    "    v0 = np.exp(b0)*np.random.normal(0, 1, (2, 40, N))  # v-components.\n",
    "    \n",
    "    # Randomize the 80/20 testing/training split of the data:\n",
    "    itrain, itest, ltrain, ltest = train_test_split(images, labels, \n",
    "                                                    test_size=0.2,\n",
    "                                                    random_state=m)\n",
    "\n",
    "    # Run the algorithms:\n",
    "    _, _, w_pgd, v_pgd = pipgla_bnn_performance_activation(ltrain, itrain, h, K, a0, b0, w0, v0, gamma)\n",
    "    \n",
    "    # Compute LPPDs:\n",
    "    lppd_pgd[m] = log_pointwise_predictive_density(w_pgd, v_pgd, itest, ltest)\n",
    "\n",
    "    # Compute test errors:\n",
    "    error_pgd[m] = test_error(w_pgd, v_pgd, itest, ltest)\n",
    "\n",
    "# Print statistics (mean +- standard deviation):\n",
    "print('LPPDs:')\n",
    "print('PIPGLA: '+str(lppd_pgd.mean())+' \\u00B1 '+str(lppd_pgd.std())+'.')\n",
    "\n",
    "print('Test errors:')\n",
    "print('PIPGLA: '+str(error_pgd.mean())+' \\u00B1 '+str(error_pgd.std())+'.')"
   ]
  },
  {
   "cell_type": "markdown",
   "metadata": {},
   "source": [
    "COMPUTATION TIMES"
   ]
  },
  {
   "cell_type": "code",
   "execution_count": 15,
   "metadata": {},
   "outputs": [
    {
     "name": "stderr",
     "output_type": "stream",
     "text": [
      "100%|██████████| 500/500 [01:25<00:00,  5.85it/s]\n",
      "100%|██████████| 500/500 [01:28<00:00,  5.63it/s]\n",
      "100%|██████████| 500/500 [01:28<00:00,  5.64it/s]\n",
      "100%|██████████| 500/500 [01:29<00:00,  5.61it/s]\n",
      "100%|██████████| 500/500 [01:29<00:00,  5.56it/s]\n",
      "100%|██████████| 500/500 [01:29<00:00,  5.59it/s]\n",
      "100%|██████████| 500/500 [01:30<00:00,  5.54it/s]\n",
      "100%|██████████| 500/500 [01:25<00:00,  5.83it/s]\n",
      "100%|██████████| 500/500 [01:31<00:00,  5.48it/s]\n",
      "100%|██████████| 500/500 [01:38<00:00,  5.08it/s]"
     ]
    },
    {
     "name": "stdout",
     "output_type": "stream",
     "text": [
      "Runtimes:\n",
      "PGD: 89.71664911169792 ± 3.3719968267714417.\n"
     ]
    },
    {
     "name": "stderr",
     "output_type": "stream",
     "text": [
      "\n"
     ]
    }
   ],
   "source": [
    "from timeit import repeat\n",
    "    \n",
    "# Time the algorithms:\n",
    "t_pgd = np.array(repeat(stmt='my_ipla_bnn_performance_activation(ltrain, itrain, h, K, a0, b0, w0, v0, gamma)',\n",
    "                       number=1, repeat=M, globals=globals()))\n",
    "\n",
    "# Print statistics (mean +- standard deviation):\n",
    "print('Runtimes:')\n",
    "print('MYIPLA: '+str(t_pgd.mean())+' \\u00B1 '+str(t_pgd.std())+'.')"
   ]
  },
  {
   "cell_type": "code",
   "execution_count": null,
   "metadata": {},
   "outputs": [],
   "source": [
    "from timeit import repeat\n",
    "    \n",
    "# Time the algorithms:\n",
    "t_pgd = np.array(repeat(stmt='my_pgd_bnn_performance_activation(ltrain, itrain, h, K, a0, b0, w0, v0, gamma)',\n",
    "                       number=1, repeat=M, globals=globals()))\n",
    "\n",
    "# Print statistics (mean +- standard deviation):\n",
    "print('Runtimes:')\n",
    "print('MYPGD: '+str(t_pgd.mean())+' \\u00B1 '+str(t_pgd.std())+'.')"
   ]
  },
  {
   "cell_type": "code",
   "execution_count": null,
   "metadata": {},
   "outputs": [],
   "source": [
    "from timeit import repeat\n",
    "    \n",
    "# Time the algorithms:\n",
    "t_pgd = np.array(repeat(stmt='pipgla_bnn_performance_activation(ltrain, itrain, h, K, a0, b0, w0, v0, gamma)',\n",
    "                       number=1, repeat=M, globals=globals()))\n",
    "\n",
    "# Print statistics (mean +- standard deviation):\n",
    "print('Runtimes:')\n",
    "print('PIPGLA: '+str(t_pgd.mean())+' \\u00B1 '+str(t_pgd.std())+'.')"
   ]
  }
 ],
 "metadata": {
  "kernelspec": {
   "display_name": "Python 3",
   "language": "python",
   "name": "python3"
  },
  "language_info": {
   "codemirror_mode": {
    "name": "ipython",
    "version": 3
   },
   "file_extension": ".py",
   "mimetype": "text/x-python",
   "name": "python",
   "nbconvert_exporter": "python",
   "pygments_lexer": "ipython3",
   "version": "3.10.12"
  }
 },
 "nbformat": 4,
 "nbformat_minor": 2
}
